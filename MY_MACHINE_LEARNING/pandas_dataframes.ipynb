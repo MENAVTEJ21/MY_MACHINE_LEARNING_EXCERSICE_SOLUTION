{
 "cells": [
  {
   "cell_type": "code",
   "execution_count": 1,
   "id": "f0d3c6dc",
   "metadata": {},
   "outputs": [
    {
     "name": "stdout",
     "output_type": "stream",
     "text": [
      "None\n"
     ]
    }
   ],
   "source": [
    "import numpy as np\n",
    "import pandas as pd\n",
    "from numpy.random import randn\n",
    "x=np.random.seed(101)\n",
    "print(x)"
   ]
  },
  {
   "cell_type": "code",
   "execution_count": 2,
   "id": "171ae64a",
   "metadata": {},
   "outputs": [
    {
     "name": "stdout",
     "output_type": "stream",
     "text": [
      "          1         2         3         4\n",
      "A  2.706850  0.628133  0.907969  0.503826\n",
      "B  0.651118 -0.319318 -0.848077  0.605965\n",
      "C -2.018168  0.740122  0.528813 -0.589001\n",
      "D  0.188695 -0.758872 -0.933237  0.955057\n",
      "E  0.190794  1.978757  2.605967  0.683509\n"
     ]
    }
   ],
   "source": [
    "a=np.array(np.random.randn(5,4),dtype='float')\n",
    "x=['A','B','C','D','E']\n",
    "y=[1,2,3,4]\n",
    "df=pd.DataFrame(a,x,y)\n",
    "print(df)"
   ]
  },
  {
   "cell_type": "code",
   "execution_count": 3,
   "id": "cae87c05",
   "metadata": {},
   "outputs": [
    {
     "name": "stdout",
     "output_type": "stream",
     "text": [
      "A    2.706850\n",
      "B    0.651118\n",
      "C   -2.018168\n",
      "D    0.188695\n",
      "E    0.190794\n",
      "Name: 1, dtype: float64 A    0.628133\n",
      "B   -0.319318\n",
      "C    0.740122\n",
      "D   -0.758872\n",
      "E    1.978757\n",
      "Name: 2, dtype: float64\n"
     ]
    }
   ],
   "source": [
    "print(df[1],df[2])"
   ]
  },
  {
   "cell_type": "code",
   "execution_count": 4,
   "id": "79bc1fb7",
   "metadata": {},
   "outputs": [],
   "source": [
    "## creating a new column"
   ]
  },
  {
   "cell_type": "code",
   "execution_count": 5,
   "id": "a1017a89",
   "metadata": {},
   "outputs": [
    {
     "name": "stdout",
     "output_type": "stream",
     "text": [
      "          1         2         3         4       new\n",
      "A  2.706850  0.628133  0.907969  0.503826  3.334983\n",
      "B  0.651118 -0.319318 -0.848077  0.605965  0.331800\n",
      "C -2.018168  0.740122  0.528813 -0.589001 -1.278046\n",
      "D  0.188695 -0.758872 -0.933237  0.955057 -0.570177\n",
      "E  0.190794  1.978757  2.605967  0.683509  2.169552\n"
     ]
    }
   ],
   "source": [
    "df['new']=df[1]+df[2]\n",
    "print(df)"
   ]
  },
  {
   "cell_type": "code",
   "execution_count": 6,
   "id": "6ca2e24b",
   "metadata": {},
   "outputs": [
    {
     "name": "stdout",
     "output_type": "stream",
     "text": [
      "          1         2         3         4       new\n",
      "A  2.706850  0.628133  0.907969  0.503826  3.334983\n",
      "B  0.651118 -0.319318 -0.848077  0.605965  0.331800\n",
      "C -2.018168  0.740122  0.528813 -0.589001 -1.278046\n",
      "D  0.188695 -0.758872 -0.933237  0.955057 -0.570177\n"
     ]
    }
   ],
   "source": [
    "## droping a row\n",
    "x=df.drop('E',axis=0)\n",
    "print(x)"
   ]
  },
  {
   "cell_type": "code",
   "execution_count": 7,
   "id": "cc7f9ecf",
   "metadata": {},
   "outputs": [
    {
     "name": "stdout",
     "output_type": "stream",
     "text": [
      "1      2.706850\n",
      "2      0.628133\n",
      "3      0.907969\n",
      "4      0.503826\n",
      "new    3.334983\n",
      "Name: A, dtype: float64\n"
     ]
    }
   ],
   "source": [
    "## generating info about each row\n",
    "x=df.loc['A']\n",
    "print(x)"
   ]
  },
  {
   "cell_type": "code",
   "execution_count": 8,
   "id": "7c80fb4c",
   "metadata": {},
   "outputs": [
    {
     "name": "stdout",
     "output_type": "stream",
     "text": [
      "1      0.190794\n",
      "2      1.978757\n",
      "3      2.605967\n",
      "4      0.683509\n",
      "new    2.169552\n",
      "Name: E, dtype: float64\n"
     ]
    }
   ],
   "source": [
    "## passing multiple columns\n",
    "x=df.loc['E']\n",
    "print(x)"
   ]
  },
  {
   "cell_type": "code",
   "execution_count": 9,
   "id": "eb2a99a6",
   "metadata": {},
   "outputs": [
    {
     "name": "stdout",
     "output_type": "stream",
     "text": [
      "          1         2\n",
      "A  2.706850  0.628133\n",
      "B  0.651118 -0.319318\n",
      "          1         2\n",
      "A  2.706850  0.628133\n",
      "B  0.651118 -0.319318\n"
     ]
    }
   ],
   "source": [
    "## extracting specified row and columsx\n",
    "x=df.loc[['A','B'],[1,2]]\n",
    "print(x)\n",
    "y=df.iloc[[0,1],[0,1]]\n",
    "print(y)"
   ]
  },
  {
   "cell_type": "code",
   "execution_count": 10,
   "id": "254c0c93",
   "metadata": {},
   "outputs": [
    {
     "name": "stdout",
     "output_type": "stream",
     "text": [
      "          1         2         3         4       new\n",
      "A  2.706850  0.628133  0.907969  0.503826  3.334983\n",
      "B  0.651118 -0.319318 -0.848077  0.605965  0.331800\n",
      "C -2.018168  0.740122  0.528813 -0.589001 -1.278046\n",
      "D  0.188695 -0.758872 -0.933237  0.955057 -0.570177\n",
      "E  0.190794  1.978757  2.605967  0.683509  2.169552\n"
     ]
    },
    {
     "data": {
      "text/html": [
       "<div>\n",
       "<style scoped>\n",
       "    .dataframe tbody tr th:only-of-type {\n",
       "        vertical-align: middle;\n",
       "    }\n",
       "\n",
       "    .dataframe tbody tr th {\n",
       "        vertical-align: top;\n",
       "    }\n",
       "\n",
       "    .dataframe thead th {\n",
       "        text-align: right;\n",
       "    }\n",
       "</style>\n",
       "<table border=\"1\" class=\"dataframe\">\n",
       "  <thead>\n",
       "    <tr style=\"text-align: right;\">\n",
       "      <th></th>\n",
       "      <th>1</th>\n",
       "      <th>2</th>\n",
       "    </tr>\n",
       "  </thead>\n",
       "  <tbody>\n",
       "    <tr>\n",
       "      <th>A</th>\n",
       "      <td>2.706850</td>\n",
       "      <td>0.628133</td>\n",
       "    </tr>\n",
       "    <tr>\n",
       "      <th>B</th>\n",
       "      <td>0.651118</td>\n",
       "      <td>-0.319318</td>\n",
       "    </tr>\n",
       "  </tbody>\n",
       "</table>\n",
       "</div>"
      ],
      "text/plain": [
       "          1         2\n",
       "A  2.706850  0.628133\n",
       "B  0.651118 -0.319318"
      ]
     },
     "execution_count": 10,
     "metadata": {},
     "output_type": "execute_result"
    }
   ],
   "source": [
    "print(df)\n",
    "df.iloc[[0,1],[0,1]]"
   ]
  },
  {
   "cell_type": "code",
   "execution_count": 11,
   "id": "4cb54808",
   "metadata": {},
   "outputs": [],
   "source": [
    "## PANDAS DATAFRAME-2"
   ]
  },
  {
   "cell_type": "code",
   "execution_count": 12,
   "id": "573621ad",
   "metadata": {},
   "outputs": [],
   "source": [
    "df2=pd.DataFrame(np.random.randn(4,5),[1,2,3,4],['A','B','C','D','E'])"
   ]
  },
  {
   "cell_type": "code",
   "execution_count": 13,
   "id": "522afd70",
   "metadata": {},
   "outputs": [
    {
     "name": "stdout",
     "output_type": "stream",
     "text": [
      "          A         B         C         D         E\n",
      "1  0.302665  1.693723 -1.706086 -1.159119 -0.134841\n",
      "2  0.390528  0.166905  0.184502  0.807706  0.072960\n",
      "3  0.638787  0.329646 -0.497104 -0.754070 -0.943406\n",
      "4  0.484752 -0.116773  1.901755  0.238127  1.996652\n"
     ]
    }
   ],
   "source": [
    "print(df2)"
   ]
  },
  {
   "cell_type": "code",
   "execution_count": 14,
   "id": "25c89ead",
   "metadata": {},
   "outputs": [
    {
     "data": {
      "text/html": [
       "<div>\n",
       "<style scoped>\n",
       "    .dataframe tbody tr th:only-of-type {\n",
       "        vertical-align: middle;\n",
       "    }\n",
       "\n",
       "    .dataframe tbody tr th {\n",
       "        vertical-align: top;\n",
       "    }\n",
       "\n",
       "    .dataframe thead th {\n",
       "        text-align: right;\n",
       "    }\n",
       "</style>\n",
       "<table border=\"1\" class=\"dataframe\">\n",
       "  <thead>\n",
       "    <tr style=\"text-align: right;\">\n",
       "      <th></th>\n",
       "      <th>A</th>\n",
       "    </tr>\n",
       "  </thead>\n",
       "  <tbody>\n",
       "    <tr>\n",
       "      <th>1</th>\n",
       "      <td>0.302665</td>\n",
       "    </tr>\n",
       "  </tbody>\n",
       "</table>\n",
       "</div>"
      ],
      "text/plain": [
       "          A\n",
       "1  0.302665"
      ]
     },
     "execution_count": 14,
     "metadata": {},
     "output_type": "execute_result"
    }
   ],
   "source": [
    "df2.iloc[[0],[0]]"
   ]
  },
  {
   "cell_type": "code",
   "execution_count": 15,
   "id": "d98da7be",
   "metadata": {},
   "outputs": [
    {
     "name": "stdout",
     "output_type": "stream",
     "text": [
      "      A      B      C      D      E\n",
      "1  True   True  False  False  False\n",
      "2  True   True   True   True   True\n",
      "3  True   True  False  False  False\n",
      "4  True  False   True   True   True\n"
     ]
    }
   ],
   "source": [
    "booldf=df2>0\n",
    "print(booldf)"
   ]
  },
  {
   "cell_type": "code",
   "execution_count": 16,
   "id": "abdb1f80",
   "metadata": {},
   "outputs": [
    {
     "name": "stdout",
     "output_type": "stream",
     "text": [
      "          A         B         C         D         E\n",
      "1  0.302665  1.693723 -1.706086 -1.159119 -0.134841\n",
      "2  0.390528  0.166905  0.184502  0.807706  0.072960\n",
      "3  0.638787  0.329646 -0.497104 -0.754070 -0.943406\n",
      "4  0.484752 -0.116773  1.901755  0.238127  1.996652\n"
     ]
    }
   ],
   "source": [
    "print(df2)"
   ]
  },
  {
   "cell_type": "code",
   "execution_count": 17,
   "id": "006cb4fb",
   "metadata": {},
   "outputs": [
    {
     "data": {
      "text/html": [
       "<div>\n",
       "<style scoped>\n",
       "    .dataframe tbody tr th:only-of-type {\n",
       "        vertical-align: middle;\n",
       "    }\n",
       "\n",
       "    .dataframe tbody tr th {\n",
       "        vertical-align: top;\n",
       "    }\n",
       "\n",
       "    .dataframe thead th {\n",
       "        text-align: right;\n",
       "    }\n",
       "</style>\n",
       "<table border=\"1\" class=\"dataframe\">\n",
       "  <thead>\n",
       "    <tr style=\"text-align: right;\">\n",
       "      <th></th>\n",
       "      <th>A</th>\n",
       "      <th>B</th>\n",
       "      <th>C</th>\n",
       "      <th>D</th>\n",
       "      <th>E</th>\n",
       "    </tr>\n",
       "  </thead>\n",
       "  <tbody>\n",
       "    <tr>\n",
       "      <th>2</th>\n",
       "      <td>0.390528</td>\n",
       "      <td>0.166905</td>\n",
       "      <td>0.184502</td>\n",
       "      <td>0.807706</td>\n",
       "      <td>0.072960</td>\n",
       "    </tr>\n",
       "    <tr>\n",
       "      <th>4</th>\n",
       "      <td>0.484752</td>\n",
       "      <td>-0.116773</td>\n",
       "      <td>1.901755</td>\n",
       "      <td>0.238127</td>\n",
       "      <td>1.996652</td>\n",
       "    </tr>\n",
       "  </tbody>\n",
       "</table>\n",
       "</div>"
      ],
      "text/plain": [
       "          A         B         C         D         E\n",
       "2  0.390528  0.166905  0.184502  0.807706  0.072960\n",
       "4  0.484752 -0.116773  1.901755  0.238127  1.996652"
      ]
     },
     "execution_count": 17,
     "metadata": {},
     "output_type": "execute_result"
    }
   ],
   "source": [
    "df2[df2['E']>0]"
   ]
  },
  {
   "cell_type": "code",
   "execution_count": 18,
   "id": "072b04bb",
   "metadata": {},
   "outputs": [
    {
     "data": {
      "text/html": [
       "<div>\n",
       "<style scoped>\n",
       "    .dataframe tbody tr th:only-of-type {\n",
       "        vertical-align: middle;\n",
       "    }\n",
       "\n",
       "    .dataframe tbody tr th {\n",
       "        vertical-align: top;\n",
       "    }\n",
       "\n",
       "    .dataframe thead th {\n",
       "        text-align: right;\n",
       "    }\n",
       "</style>\n",
       "<table border=\"1\" class=\"dataframe\">\n",
       "  <thead>\n",
       "    <tr style=\"text-align: right;\">\n",
       "      <th></th>\n",
       "      <th>A</th>\n",
       "      <th>B</th>\n",
       "      <th>C</th>\n",
       "      <th>D</th>\n",
       "      <th>E</th>\n",
       "    </tr>\n",
       "  </thead>\n",
       "  <tbody>\n",
       "    <tr>\n",
       "      <th>1</th>\n",
       "      <td>0.302665</td>\n",
       "      <td>1.693723</td>\n",
       "      <td>-1.706086</td>\n",
       "      <td>-1.159119</td>\n",
       "      <td>-0.134841</td>\n",
       "    </tr>\n",
       "    <tr>\n",
       "      <th>3</th>\n",
       "      <td>0.638787</td>\n",
       "      <td>0.329646</td>\n",
       "      <td>-0.497104</td>\n",
       "      <td>-0.754070</td>\n",
       "      <td>-0.943406</td>\n",
       "    </tr>\n",
       "  </tbody>\n",
       "</table>\n",
       "</div>"
      ],
      "text/plain": [
       "          A         B         C         D         E\n",
       "1  0.302665  1.693723 -1.706086 -1.159119 -0.134841\n",
       "3  0.638787  0.329646 -0.497104 -0.754070 -0.943406"
      ]
     },
     "execution_count": 18,
     "metadata": {},
     "output_type": "execute_result"
    }
   ],
   "source": [
    "# grab all the rows where E values are less than 0\n",
    "df2[df2['E']<0]"
   ]
  },
  {
   "cell_type": "code",
   "execution_count": 19,
   "id": "fb5ad620",
   "metadata": {},
   "outputs": [
    {
     "data": {
      "text/plain": [
       "2    0.390528\n",
       "4    0.484752\n",
       "Name: A, dtype: float64"
      ]
     },
     "execution_count": 19,
     "metadata": {},
     "output_type": "execute_result"
    }
   ],
   "source": [
    "#return row a where the e values are gretaer than 0\n",
    "df2[df2['E']>0]['A']"
   ]
  },
  {
   "cell_type": "code",
   "execution_count": 20,
   "id": "6ca376f4",
   "metadata": {},
   "outputs": [
    {
     "name": "stdout",
     "output_type": "stream",
     "text": [
      "          A         B\n",
      "2  0.390528  0.166905\n",
      "4  0.484752 -0.116773\n"
     ]
    }
   ],
   "source": [
    "boolser=df2['E']>0\n",
    "result=df2[boolser]\n",
    "mycols=['A','B']\n",
    "print(result[mycols])"
   ]
  },
  {
   "cell_type": "code",
   "execution_count": 21,
   "id": "3c35b0ef",
   "metadata": {},
   "outputs": [
    {
     "name": "stdout",
     "output_type": "stream",
     "text": [
      "          A         B         C         D         E\n",
      "1  0.302665  1.693723 -1.706086 -1.159119 -0.134841\n",
      "2  0.390528  0.166905  0.184502  0.807706  0.072960\n",
      "3  0.638787  0.329646 -0.497104 -0.754070 -0.943406\n",
      "4  0.484752 -0.116773  1.901755  0.238127  1.996652\n"
     ]
    },
    {
     "data": {
      "text/html": [
       "<div>\n",
       "<style scoped>\n",
       "    .dataframe tbody tr th:only-of-type {\n",
       "        vertical-align: middle;\n",
       "    }\n",
       "\n",
       "    .dataframe tbody tr th {\n",
       "        vertical-align: top;\n",
       "    }\n",
       "\n",
       "    .dataframe thead th {\n",
       "        text-align: right;\n",
       "    }\n",
       "</style>\n",
       "<table border=\"1\" class=\"dataframe\">\n",
       "  <thead>\n",
       "    <tr style=\"text-align: right;\">\n",
       "      <th></th>\n",
       "      <th>A</th>\n",
       "      <th>B</th>\n",
       "      <th>C</th>\n",
       "      <th>D</th>\n",
       "      <th>E</th>\n",
       "    </tr>\n",
       "  </thead>\n",
       "  <tbody>\n",
       "    <tr>\n",
       "      <th>1</th>\n",
       "      <td>0.302665</td>\n",
       "      <td>1.693723</td>\n",
       "      <td>-1.706086</td>\n",
       "      <td>-1.159119</td>\n",
       "      <td>-0.134841</td>\n",
       "    </tr>\n",
       "    <tr>\n",
       "      <th>2</th>\n",
       "      <td>0.390528</td>\n",
       "      <td>0.166905</td>\n",
       "      <td>0.184502</td>\n",
       "      <td>0.807706</td>\n",
       "      <td>0.072960</td>\n",
       "    </tr>\n",
       "    <tr>\n",
       "      <th>3</th>\n",
       "      <td>0.638787</td>\n",
       "      <td>0.329646</td>\n",
       "      <td>-0.497104</td>\n",
       "      <td>-0.754070</td>\n",
       "      <td>-0.943406</td>\n",
       "    </tr>\n",
       "    <tr>\n",
       "      <th>4</th>\n",
       "      <td>0.484752</td>\n",
       "      <td>-0.116773</td>\n",
       "      <td>1.901755</td>\n",
       "      <td>0.238127</td>\n",
       "      <td>1.996652</td>\n",
       "    </tr>\n",
       "  </tbody>\n",
       "</table>\n",
       "</div>"
      ],
      "text/plain": [
       "          A         B         C         D         E\n",
       "1  0.302665  1.693723 -1.706086 -1.159119 -0.134841\n",
       "2  0.390528  0.166905  0.184502  0.807706  0.072960\n",
       "3  0.638787  0.329646 -0.497104 -0.754070 -0.943406\n",
       "4  0.484752 -0.116773  1.901755  0.238127  1.996652"
      ]
     },
     "execution_count": 21,
     "metadata": {},
     "output_type": "execute_result"
    }
   ],
   "source": [
    "## grab the values where E is less than 0 and D is greater than 1\n",
    "print(df2)\n",
    "df2[(df2['E']<0)&(df2['D']<0)]\n",
    "df2[(df2['E']<0)|(df2['D']>0)]"
   ]
  },
  {
   "cell_type": "code",
   "execution_count": 22,
   "id": "22b288ab",
   "metadata": {},
   "outputs": [],
   "source": [
    "## REST THE INDEX TO DEFAULT"
   ]
  },
  {
   "cell_type": "code",
   "execution_count": 23,
   "id": "92d7e7ff",
   "metadata": {},
   "outputs": [
    {
     "name": "stdout",
     "output_type": "stream",
     "text": [
      "   index         A         B         C         D         E\n",
      "0      1  0.302665  1.693723 -1.706086 -1.159119 -0.134841\n",
      "1      2  0.390528  0.166905  0.184502  0.807706  0.072960\n",
      "2      3  0.638787  0.329646 -0.497104 -0.754070 -0.943406\n",
      "3      4  0.484752 -0.116773  1.901755  0.238127  1.996652\n"
     ]
    }
   ],
   "source": [
    "df2.reset_index(inplace=True)\n",
    "print(df2)"
   ]
  },
  {
   "cell_type": "code",
   "execution_count": 37,
   "id": "7ccbf87e",
   "metadata": {},
   "outputs": [
    {
     "name": "stdout",
     "output_type": "stream",
     "text": [
      "   index         A         B         C         D         E\n",
      "0      1  0.302665  1.693723 -1.706086 -1.159119 -0.134841\n",
      "1      2  0.390528  0.166905  0.184502  0.807706  0.072960\n",
      "2      3  0.638787  0.329646 -0.497104 -0.754070 -0.943406\n",
      "3      4  0.484752 -0.116773  1.901755  0.238127  1.996652\n"
     ]
    },
    {
     "data": {
      "text/html": [
       "<div>\n",
       "<style scoped>\n",
       "    .dataframe tbody tr th:only-of-type {\n",
       "        vertical-align: middle;\n",
       "    }\n",
       "\n",
       "    .dataframe tbody tr th {\n",
       "        vertical-align: top;\n",
       "    }\n",
       "\n",
       "    .dataframe thead th {\n",
       "        text-align: right;\n",
       "    }\n",
       "</style>\n",
       "<table border=\"1\" class=\"dataframe\">\n",
       "  <thead>\n",
       "    <tr style=\"text-align: right;\">\n",
       "      <th></th>\n",
       "      <th>index</th>\n",
       "      <th>A</th>\n",
       "      <th>B</th>\n",
       "      <th>C</th>\n",
       "      <th>D</th>\n",
       "      <th>E</th>\n",
       "    </tr>\n",
       "  </thead>\n",
       "  <tbody>\n",
       "    <tr>\n",
       "      <th>2</th>\n",
       "      <td>3</td>\n",
       "      <td>0.638787</td>\n",
       "      <td>0.329646</td>\n",
       "      <td>-0.497104</td>\n",
       "      <td>-0.75407</td>\n",
       "      <td>-0.943406</td>\n",
       "    </tr>\n",
       "  </tbody>\n",
       "</table>\n",
       "</div>"
      ],
      "text/plain": [
       "   index         A         B         C        D         E\n",
       "2      3  0.638787  0.329646 -0.497104 -0.75407 -0.943406"
      ]
     },
     "execution_count": 37,
     "metadata": {},
     "output_type": "execute_result"
    }
   ],
   "source": [
    "print(df2)\n",
    "df2[(df2['A']>0.5)&(df2['B']>0)]"
   ]
  },
  {
   "cell_type": "code",
   "execution_count": 50,
   "id": "0742ce2c",
   "metadata": {},
   "outputs": [
    {
     "name": "stdout",
     "output_type": "stream",
     "text": [
      "   index         A         B         C         D         E states\n",
      "0      1  0.302665  1.693723 -1.706086 -1.159119 -0.134841     CA\n",
      "1      2  0.390528  0.166905  0.184502  0.807706  0.072960     NY\n",
      "2      3  0.638787  0.329646 -0.497104 -0.754070 -0.943406     WY\n",
      "3      4  0.484752 -0.116773  1.901755  0.238127  1.996652     OR\n"
     ]
    },
    {
     "data": {
      "text/html": [
       "<div>\n",
       "<style scoped>\n",
       "    .dataframe tbody tr th:only-of-type {\n",
       "        vertical-align: middle;\n",
       "    }\n",
       "\n",
       "    .dataframe tbody tr th {\n",
       "        vertical-align: top;\n",
       "    }\n",
       "\n",
       "    .dataframe thead th {\n",
       "        text-align: right;\n",
       "    }\n",
       "</style>\n",
       "<table border=\"1\" class=\"dataframe\">\n",
       "  <thead>\n",
       "    <tr style=\"text-align: right;\">\n",
       "      <th></th>\n",
       "      <th>index</th>\n",
       "      <th>A</th>\n",
       "      <th>B</th>\n",
       "      <th>C</th>\n",
       "      <th>D</th>\n",
       "      <th>E</th>\n",
       "    </tr>\n",
       "    <tr>\n",
       "      <th>states</th>\n",
       "      <th></th>\n",
       "      <th></th>\n",
       "      <th></th>\n",
       "      <th></th>\n",
       "      <th></th>\n",
       "      <th></th>\n",
       "    </tr>\n",
       "  </thead>\n",
       "  <tbody>\n",
       "    <tr>\n",
       "      <th>CA</th>\n",
       "      <td>1</td>\n",
       "      <td>0.302665</td>\n",
       "      <td>1.693723</td>\n",
       "      <td>-1.706086</td>\n",
       "      <td>-1.159119</td>\n",
       "      <td>-0.134841</td>\n",
       "    </tr>\n",
       "    <tr>\n",
       "      <th>NY</th>\n",
       "      <td>2</td>\n",
       "      <td>0.390528</td>\n",
       "      <td>0.166905</td>\n",
       "      <td>0.184502</td>\n",
       "      <td>0.807706</td>\n",
       "      <td>0.072960</td>\n",
       "    </tr>\n",
       "    <tr>\n",
       "      <th>WY</th>\n",
       "      <td>3</td>\n",
       "      <td>0.638787</td>\n",
       "      <td>0.329646</td>\n",
       "      <td>-0.497104</td>\n",
       "      <td>-0.754070</td>\n",
       "      <td>-0.943406</td>\n",
       "    </tr>\n",
       "    <tr>\n",
       "      <th>OR</th>\n",
       "      <td>4</td>\n",
       "      <td>0.484752</td>\n",
       "      <td>-0.116773</td>\n",
       "      <td>1.901755</td>\n",
       "      <td>0.238127</td>\n",
       "      <td>1.996652</td>\n",
       "    </tr>\n",
       "  </tbody>\n",
       "</table>\n",
       "</div>"
      ],
      "text/plain": [
       "        index         A         B         C         D         E\n",
       "states                                                         \n",
       "CA          1  0.302665  1.693723 -1.706086 -1.159119 -0.134841\n",
       "NY          2  0.390528  0.166905  0.184502  0.807706  0.072960\n",
       "WY          3  0.638787  0.329646 -0.497104 -0.754070 -0.943406\n",
       "OR          4  0.484752 -0.116773  1.901755  0.238127  1.996652"
      ]
     },
     "execution_count": 50,
     "metadata": {},
     "output_type": "execute_result"
    }
   ],
   "source": [
    "newid='CA NY WY OR'\n",
    "x=newid.split(' ')\n",
    "df2['states']=x\n",
    "print(df2)\n",
    "df2.set_index('states')"
   ]
  },
  {
   "cell_type": "code",
   "execution_count": null,
   "id": "8c886f6d",
   "metadata": {},
   "outputs": [],
   "source": []
  }
 ],
 "metadata": {
  "kernelspec": {
   "display_name": "Python 3 (ipykernel)",
   "language": "python",
   "name": "python3"
  },
  "language_info": {
   "codemirror_mode": {
    "name": "ipython",
    "version": 3
   },
   "file_extension": ".py",
   "mimetype": "text/x-python",
   "name": "python",
   "nbconvert_exporter": "python",
   "pygments_lexer": "ipython3",
   "version": "3.10.6"
  }
 },
 "nbformat": 4,
 "nbformat_minor": 5
}
