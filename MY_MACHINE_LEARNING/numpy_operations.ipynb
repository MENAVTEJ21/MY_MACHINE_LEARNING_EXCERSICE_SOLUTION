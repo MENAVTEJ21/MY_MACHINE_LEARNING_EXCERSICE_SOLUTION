{
 "cells": [
  {
   "cell_type": "code",
   "execution_count": 1,
   "id": "379fa861",
   "metadata": {},
   "outputs": [
    {
     "name": "stdout",
     "output_type": "stream",
     "text": [
      "[[1 2 3]\n",
      " [4 5 6]\n",
      " [7 8 9]]\n"
     ]
    }
   ],
   "source": [
    "import numpy as np\n",
    "x=np.array([[1,2,3],[4,5,6],[7,8,9]])\n",
    "print(x)"
   ]
  },
  {
   "cell_type": "code",
   "execution_count": 2,
   "id": "9511c2d0",
   "metadata": {},
   "outputs": [
    {
     "data": {
      "text/plain": [
       "array([1, 2, 3])"
      ]
     },
     "execution_count": 2,
     "metadata": {},
     "output_type": "execute_result"
    }
   ],
   "source": [
    "x[0]"
   ]
  },
  {
   "cell_type": "code",
   "execution_count": 3,
   "id": "354e8c95",
   "metadata": {},
   "outputs": [
    {
     "data": {
      "text/plain": [
       "array([[4, 5, 6],\n",
       "       [7, 8, 9]])"
      ]
     },
     "execution_count": 3,
     "metadata": {},
     "output_type": "execute_result"
    }
   ],
   "source": [
    "x[1:]"
   ]
  },
  {
   "cell_type": "code",
   "execution_count": 4,
   "id": "0914f68e",
   "metadata": {},
   "outputs": [
    {
     "data": {
      "text/plain": [
       "array([[7, 8, 9],\n",
       "       [4, 5, 6],\n",
       "       [1, 2, 3]])"
      ]
     },
     "execution_count": 4,
     "metadata": {},
     "output_type": "execute_result"
    }
   ],
   "source": [
    "x[::-1]"
   ]
  },
  {
   "cell_type": "code",
   "execution_count": 5,
   "id": "84c54204",
   "metadata": {},
   "outputs": [
    {
     "data": {
      "text/plain": [
       "array([[1, 4, 7],\n",
       "       [2, 5, 8],\n",
       "       [3, 6, 9]])"
      ]
     },
     "execution_count": 5,
     "metadata": {},
     "output_type": "execute_result"
    }
   ],
   "source": [
    "x.T"
   ]
  },
  {
   "cell_type": "code",
   "execution_count": 6,
   "id": "c120e392",
   "metadata": {},
   "outputs": [
    {
     "name": "stdout",
     "output_type": "stream",
     "text": [
      "[[0 1 2]\n",
      " [3 4 5]\n",
      " [6 7 8]]\n"
     ]
    }
   ],
   "source": [
    "x2=np.arange(0,9)\n",
    "print(x2.reshape(3,3))"
   ]
  },
  {
   "cell_type": "code",
   "execution_count": 7,
   "id": "225ba661",
   "metadata": {},
   "outputs": [],
   "source": [
    "### numpy selection and indexing"
   ]
  },
  {
   "cell_type": "code",
   "execution_count": 8,
   "id": "03a9b3d7",
   "metadata": {},
   "outputs": [],
   "source": [
    "import numpy as np"
   ]
  },
  {
   "cell_type": "code",
   "execution_count": 9,
   "id": "c7c918da",
   "metadata": {},
   "outputs": [
    {
     "name": "stdout",
     "output_type": "stream",
     "text": [
      "[[1 2 3]\n",
      " [4 5 6]\n",
      " [7 8 9]]\n"
     ]
    }
   ],
   "source": [
    "arr_2d=np.array([[1,2,3],[4,5,6],[7,8,9]])\n",
    "print(arr_2d)"
   ]
  },
  {
   "cell_type": "code",
   "execution_count": null,
   "id": "a9abcb93",
   "metadata": {},
   "outputs": [],
   "source": [
    "print(arr_2d[0,0])"
   ]
  },
  {
   "cell_type": "code",
   "execution_count": null,
   "id": "64ec1c3a",
   "metadata": {},
   "outputs": [],
   "source": [
    "print(arr_2d[0][1])"
   ]
  },
  {
   "cell_type": "code",
   "execution_count": null,
   "id": "0d9ad7fa",
   "metadata": {},
   "outputs": [],
   "source": [
    "print(arr_2d[:2,1:])"
   ]
  },
  {
   "cell_type": "code",
   "execution_count": null,
   "id": "54a7ff13",
   "metadata": {},
   "outputs": [],
   "source": [
    "print(arr_2d)"
   ]
  },
  {
   "cell_type": "code",
   "execution_count": null,
   "id": "92890e51",
   "metadata": {},
   "outputs": [],
   "source": [
    "print(arr_2d[1:,1:])"
   ]
  },
  {
   "cell_type": "code",
   "execution_count": null,
   "id": "63f24986",
   "metadata": {},
   "outputs": [],
   "source": [
    "print(arr_2d[0:2][:3])"
   ]
  },
  {
   "cell_type": "code",
   "execution_count": null,
   "id": "c6a964eb",
   "metadata": {},
   "outputs": [],
   "source": [
    "arr2=np.arange(1,11)"
   ]
  },
  {
   "cell_type": "code",
   "execution_count": null,
   "id": "b24afe5d",
   "metadata": {},
   "outputs": [],
   "source": [
    "print(arr2.size)"
   ]
  },
  {
   "cell_type": "code",
   "execution_count": null,
   "id": "9f408bfe",
   "metadata": {},
   "outputs": [],
   "source": [
    "arr2[arr2>5]"
   ]
  },
  {
   "cell_type": "code",
   "execution_count": null,
   "id": "85e17428",
   "metadata": {},
   "outputs": [],
   "source": [
    "arr2[arr2<5]"
   ]
  },
  {
   "cell_type": "code",
   "execution_count": null,
   "id": "1d8f3f4c",
   "metadata": {},
   "outputs": [],
   "source": [
    "bool_arr=arr2>5\n",
    "print(bool_arr)"
   ]
  },
  {
   "cell_type": "code",
   "execution_count": 17,
   "id": "f6f41811",
   "metadata": {},
   "outputs": [],
   "source": [
    "arr=np.arange(0,10)"
   ]
  },
  {
   "cell_type": "code",
   "execution_count": 18,
   "id": "4511a6b9",
   "metadata": {},
   "outputs": [
    {
     "name": "stdout",
     "output_type": "stream",
     "text": [
      "[0 1 2 3 4 5 6 7 8 9]\n"
     ]
    }
   ],
   "source": [
    "print(arr)"
   ]
  },
  {
   "cell_type": "code",
   "execution_count": 22,
   "id": "69bfba3c",
   "metadata": {},
   "outputs": [
    {
     "data": {
      "text/plain": [
       "array([[0.        , 1.        , 1.41421356, 1.73205081, 2.        ],\n",
       "       [2.23606798, 2.44948974, 2.64575131, 2.82842712, 3.        ]])"
      ]
     },
     "execution_count": 22,
     "metadata": {},
     "output_type": "execute_result"
    }
   ],
   "source": [
    "(np.sqrt(arr)).reshape(2,5)"
   ]
  },
  {
   "cell_type": "code",
   "execution_count": null,
   "id": "fe08900a",
   "metadata": {},
   "outputs": [],
   "source": []
  }
 ],
 "metadata": {
  "kernelspec": {
   "display_name": "Python 3 (ipykernel)",
   "language": "python",
   "name": "python3"
  },
  "language_info": {
   "codemirror_mode": {
    "name": "ipython",
    "version": 3
   },
   "file_extension": ".py",
   "mimetype": "text/x-python",
   "name": "python",
   "nbconvert_exporter": "python",
   "pygments_lexer": "ipython3",
   "version": "3.10.6"
  }
 },
 "nbformat": 4,
 "nbformat_minor": 5
}
