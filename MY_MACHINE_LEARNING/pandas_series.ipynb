{
 "cells": [
  {
   "cell_type": "code",
   "execution_count": 1,
   "id": "e3b8e6d5",
   "metadata": {},
   "outputs": [],
   "source": [
    "import pandas as pd"
   ]
  },
  {
   "cell_type": "code",
   "execution_count": 2,
   "id": "e1fe92a9",
   "metadata": {},
   "outputs": [],
   "source": [
    "import numpy as np"
   ]
  },
  {
   "cell_type": "code",
   "execution_count": 3,
   "id": "66f3dd4c",
   "metadata": {},
   "outputs": [
    {
     "name": "stdout",
     "output_type": "stream",
     "text": [
      "[[1 2 3]]\n"
     ]
    }
   ],
   "source": [
    "x=np.array([1,2,3])\n",
    "print(x.reshape(1,3))"
   ]
  },
  {
   "cell_type": "code",
   "execution_count": 4,
   "id": "4a07196f",
   "metadata": {},
   "outputs": [
    {
     "name": "stdout",
     "output_type": "stream",
     "text": [
      "ram     10\n",
      "john    20\n",
      "jack    30\n",
      "dtype: int64\n",
      "ram     1\n",
      "john    2\n",
      "jack    3\n",
      "dtype: int64\n"
     ]
    }
   ],
   "source": [
    "lst=[1,2,3]\n",
    "d=['ram','john','jack']\n",
    "e={1:10,2:20,3:30}\n",
    "x=pd.Series(e.values(),d)\n",
    "y=pd.Series(e.keys(),d)\n",
    "print(x,end='\\n')\n",
    "print(y,end='\\n')"
   ]
  },
  {
   "cell_type": "code",
   "execution_count": 5,
   "id": "3761c9e6",
   "metadata": {},
   "outputs": [
    {
     "data": {
      "text/plain": [
       "ram     1\n",
       "john    2\n",
       "jack    3\n",
       "dtype: int64"
      ]
     },
     "execution_count": 5,
     "metadata": {},
     "output_type": "execute_result"
    }
   ],
   "source": [
    "pd.Series(e.values(),d)\n",
    "pd.Series(e.keys(),d)"
   ]
  },
  {
   "cell_type": "code",
   "execution_count": 6,
   "id": "bf1aa995",
   "metadata": {},
   "outputs": [
    {
     "name": "stdout",
     "output_type": "stream",
     "text": [
      "0    a\n",
      "1    b\n",
      "2    c\n",
      "dtype: object 0    a\n",
      "1    b\n",
      "2    c\n",
      "dtype: object 0    1\n",
      "1    2\n",
      "2    3\n",
      "dtype: object\n"
     ]
    }
   ],
   "source": [
    "a=['a','b','c']\n",
    "x=pd.Series(data=a)\n",
    "y=pd.Series(a)\n",
    "z=pd.Series(data=['1','2','3'])\n",
    "print(x,y,z)"
   ]
  },
  {
   "cell_type": "code",
   "execution_count": 7,
   "id": "15156452",
   "metadata": {},
   "outputs": [
    {
     "ename": "NameError",
     "evalue": "name 'df1' is not defined",
     "output_type": "error",
     "traceback": [
      "\u001b[1;31m---------------------------------------------------------------------------\u001b[0m",
      "\u001b[1;31mNameError\u001b[0m                                 Traceback (most recent call last)",
      "Cell \u001b[1;32mIn[7], line 2\u001b[0m\n\u001b[0;32m      1\u001b[0m ser1\u001b[38;5;241m=\u001b[39mpd\u001b[38;5;241m.\u001b[39mSeries([\u001b[38;5;241m1\u001b[39m,\u001b[38;5;241m2\u001b[39m,\u001b[38;5;241m3\u001b[39m,\u001b[38;5;241m4\u001b[39m],[\u001b[38;5;124m'\u001b[39m\u001b[38;5;124mUSA\u001b[39m\u001b[38;5;124m'\u001b[39m,\u001b[38;5;124m'\u001b[39m\u001b[38;5;124mGERMANY\u001b[39m\u001b[38;5;124m'\u001b[39m,\u001b[38;5;124m'\u001b[39m\u001b[38;5;124mUSSR\u001b[39m\u001b[38;5;124m'\u001b[39m,\u001b[38;5;124m'\u001b[39m\u001b[38;5;124mJAPAN\u001b[39m\u001b[38;5;124m'\u001b[39m])\n\u001b[1;32m----> 2\u001b[0m \u001b[38;5;28mprint\u001b[39m(\u001b[43mdf1\u001b[49m)\n",
      "\u001b[1;31mNameError\u001b[0m: name 'df1' is not defined"
     ]
    }
   ],
   "source": [
    "ser1=pd.Series([1,2,3,4],['USA','GERMANY','USSR','JAPAN'])\n",
    "print(df1)"
   ]
  },
  {
   "cell_type": "code",
   "execution_count": null,
   "id": "26023227",
   "metadata": {},
   "outputs": [],
   "source": [
    "print(df1['USA'])\n",
    "print(df1['GERMANY'])"
   ]
  },
  {
   "cell_type": "code",
   "execution_count": null,
   "id": "3013e5d2",
   "metadata": {},
   "outputs": [],
   "source": [
    "ser2=pd.Series([1,2,5,4],['USA','GERMANY','ITALY','JAPAN'])\n",
    "print(ser1+ser2)"
   ]
  },
  {
   "cell_type": "code",
   "execution_count": 8,
   "id": "43e6f3ea",
   "metadata": {},
   "outputs": [
    {
     "name": "stdout",
     "output_type": "stream",
     "text": [
      "Ram      1\n",
      "shyam    2\n",
      "john     3\n",
      "jack     4\n",
      "dtype: int64\n"
     ]
    }
   ],
   "source": [
    "ser2=pd.Series([1,2,3,4],['Ram','shyam','john','jack'])\n",
    "print(ser2)"
   ]
  },
  {
   "cell_type": "code",
   "execution_count": null,
   "id": "42ed1a0e",
   "metadata": {},
   "outputs": [],
   "source": []
  }
 ],
 "metadata": {
  "kernelspec": {
   "display_name": "Python 3 (ipykernel)",
   "language": "python",
   "name": "python3"
  },
  "language_info": {
   "codemirror_mode": {
    "name": "ipython",
    "version": 3
   },
   "file_extension": ".py",
   "mimetype": "text/x-python",
   "name": "python",
   "nbconvert_exporter": "python",
   "pygments_lexer": "ipython3",
   "version": "3.10.6"
  }
 },
 "nbformat": 4,
 "nbformat_minor": 5
}
